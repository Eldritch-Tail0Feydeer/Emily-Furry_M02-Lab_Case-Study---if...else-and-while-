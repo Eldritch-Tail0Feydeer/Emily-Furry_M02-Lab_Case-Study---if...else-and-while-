{
 "cells": [
  {
   "cell_type": "code",
   "execution_count": null,
   "id": "dfe1d3d7",
   "metadata": {},
   "outputs": [],
   "source": [
    "# Emily Furry\n",
    "# Emily Furry_M02 Lab_Case Study - if...else and while \n",
    "# This program will test if a student qualifies for \n",
    "# two possible lists: Dean's List or Honor Roll"
   ]
  },
  {
   "cell_type": "code",
   "execution_count": 1,
   "id": "2e457e5e",
   "metadata": {
    "scrolled": true
   },
   "outputs": [
    {
     "name": "stdout",
     "output_type": "stream",
     "text": [
      "Input student last name (or 'ZZZ' to quit): Jeans\n",
      "Input student GPA: 3.267\n",
      "Jeans is eligible for Honor Roll.\n",
      "Input student last name (or 'ZZZ' to quit): Smith\n",
      "Input student GPA: 3.49\n",
      "Smith is eligible for Honor Roll.\n",
      "Input student last name (or 'ZZZ' to quit): Miyamoto\n",
      "Input student GPA: 3.01\n",
      "Miyamoto does not qualify for Honor Roll or Dean's List.\n",
      "Input student last name (or 'ZZZ' to quit): Papito\n",
      "Input student GPA: 3.84\n",
      "Papito is eligible for Dean's List.\n",
      "Input student last name (or 'ZZZ' to quit): Jaffe\n",
      "Input student GPA: 2.98\n",
      "Jaffe does not qualify for Honor Roll or Dean's List.\n",
      "Input student last name (or 'ZZZ' to quit): ZZZ\n"
     ]
    }
   ],
   "source": [
    "l_name = input(\"Input student last name (or 'ZZZ' to quit): \")\n",
    "while l_name != \"ZZZ\":\n",
    "    GPA = input(\"Input student GPA: \")\n",
    "    GPA = float(GPA)\n",
    "    if GPA >= 3.25 and GPA < 3.5:\n",
    "        print(l_name + \" is eligible for Honor Roll.\")\n",
    "        l_name = input(\"Input student last name (or 'ZZZ' to quit): \")\n",
    "        \n",
    "    elif GPA >= 3.5:\n",
    "        print(l_name + \" is eligible for Dean's List.\")\n",
    "        l_name = input(\"Input student last name (or 'ZZZ' to quit): \")\n",
    "        \n",
    "    else: \n",
    "        print(l_name + \" does not qualify for Honor Roll or Dean's List.\")\n",
    "        l_name = input(\"Input student last name (or 'ZZZ' to quit): \")\n"
   ]
  },
  {
   "cell_type": "code",
   "execution_count": null,
   "id": "399dd46a",
   "metadata": {},
   "outputs": [],
   "source": []
  }
 ],
 "metadata": {
  "kernelspec": {
   "display_name": "Python 3 (ipykernel)",
   "language": "python",
   "name": "python3"
  },
  "language_info": {
   "codemirror_mode": {
    "name": "ipython",
    "version": 3
   },
   "file_extension": ".py",
   "mimetype": "text/x-python",
   "name": "python",
   "nbconvert_exporter": "python",
   "pygments_lexer": "ipython3",
   "version": "3.10.9"
  }
 },
 "nbformat": 4,
 "nbformat_minor": 5
}
